{
 "cells": [
  {
   "cell_type": "code",
   "execution_count": 1,
   "id": "b1a912cf-befb-43a4-a5b8-d05f7ebfc952",
   "metadata": {},
   "outputs": [],
   "source": [
    "import numpy as np\n",
    "a = np.ones((5, 1))\n",
    "b = np.ones((1, 6))\n",
    "c = np.ones((6,))\n",
    "d = np.ones(())"
   ]
  },
  {
   "cell_type": "code",
   "execution_count": 2,
   "id": "80315b65",
   "metadata": {},
   "outputs": [],
   "source": [
    "a = np.array([0.0, 10.0, 20.0, 30.0])\n",
    "b = np.array([1.0, 2.0, 3.0])"
   ]
  },
  {
   "cell_type": "code",
   "execution_count": 3,
   "id": "ef3983ce",
   "metadata": {},
   "outputs": [
    {
     "data": {
      "text/plain": [
       "array([[[ 0.]],\n",
       "\n",
       "       [[10.]],\n",
       "\n",
       "       [[20.]],\n",
       "\n",
       "       [[30.]]])"
      ]
     },
     "execution_count": 3,
     "metadata": {},
     "output_type": "execute_result"
    }
   ],
   "source": [
    "a[:, np.newaxis, np.newaxis]"
   ]
  },
  {
   "cell_type": "code",
   "execution_count": 4,
   "id": "c158449b",
   "metadata": {},
   "outputs": [],
   "source": [
    "from numpy import array, argmin, sqrt, sum\n",
    "observation = array([111.0, 188.0])\n",
    "codes = array([[102.0, 203.0],\n",
    "               [132.0, 193.0],\n",
    "               [45.0, 155.0],\n",
    "               [57.0, 173.0]])\n",
    "diff = codes - observation"
   ]
  },
  {
   "cell_type": "code",
   "execution_count": 5,
   "id": "f903c5be",
   "metadata": {},
   "outputs": [
    {
     "data": {
      "text/plain": [
       "array([102., 203.])"
      ]
     },
     "execution_count": 5,
     "metadata": {},
     "output_type": "execute_result"
    }
   ],
   "source": [
    "# dist = sqrt(sum(diff**2,axis=-1))\n",
    "codes[argmin(sqrt(sum(diff**2,axis=-1)))]"
   ]
  },
  {
   "cell_type": "code",
   "execution_count": 6,
   "id": "ad0ecf59",
   "metadata": {},
   "outputs": [],
   "source": [
    "x = np.arange(10)"
   ]
  },
  {
   "cell_type": "code",
   "execution_count": 7,
   "id": "73028c37",
   "metadata": {},
   "outputs": [],
   "source": [
    "x.shape = (2, 5)"
   ]
  },
  {
   "cell_type": "code",
   "execution_count": 8,
   "id": "1ac8ceb3",
   "metadata": {},
   "outputs": [],
   "source": [
    "x = np.array([[[1],[2],[3]], [[4],[5],[6]]])"
   ]
  },
  {
   "cell_type": "code",
   "execution_count": 9,
   "id": "550f31f1",
   "metadata": {},
   "outputs": [
    {
     "name": "stdout",
     "output_type": "stream",
     "text": [
      "[[ 0  1  2  3]\n",
      " [ 5  6  7  8]\n",
      " [10 11 12 13]\n",
      " [15 16 17 18]]\n",
      "[[ 0  1  2  3]\n",
      " [ 5  6  7  8]\n",
      " [10 11 12 13]\n",
      " [15 16 17 18]]\n",
      "[[ 0  1  2  3  4]\n",
      " [ 5  6  7  8  9]\n",
      " [10 11 12 13 14]\n",
      " [15 16 17 18 19]\n",
      " [20 21 22 23 24]]\n"
     ]
    }
   ],
   "source": [
    "z = np.arange(25).reshape((5, 5))\n",
    "x = np.arange(4)\n",
    "y = np.arange(4)\n",
    "print(z[x[:, np.newaxis], y])\n",
    "print(z[np.ix_(x, y)])\n",
    "print(z)"
   ]
  },
  {
   "cell_type": "code",
   "execution_count": 10,
   "id": "4418b6a7",
   "metadata": {},
   "outputs": [
    {
     "data": {
      "text/plain": [
       "array([[0, 0, 0, 0, 0],\n",
       "       [0, 0, 0, 0, 0],\n",
       "       [0, 0, 0, 0, 0],\n",
       "       [0, 0, 0, 0, 0],\n",
       "       [0, 0, 0, 0, 0]])"
      ]
     },
     "execution_count": 10,
     "metadata": {},
     "output_type": "execute_result"
    }
   ],
   "source": [
    "z[z.nonzero()] -= z[z.nonzero()]\n",
    "z"
   ]
  },
  {
   "cell_type": "code",
   "execution_count": 11,
   "id": "52a77e16",
   "metadata": {},
   "outputs": [
    {
     "data": {
      "text/plain": [
       "array([[0, 1],\n",
       "       [1, 1]])"
      ]
     },
     "execution_count": 11,
     "metadata": {},
     "output_type": "execute_result"
    }
   ],
   "source": [
    "x = np.array([[0, 1], [1, 1], [2, 2]])\n",
    "rowsum = x.sum(-1)\n",
    "x[rowsum <= 2]"
   ]
  },
  {
   "cell_type": "code",
   "execution_count": 12,
   "id": "9fd753ab",
   "metadata": {},
   "outputs": [
    {
     "data": {
      "text/plain": [
       "array([[ 3,  4,  5],\n",
       "       [ 9, 10, 11]])"
      ]
     },
     "execution_count": 12,
     "metadata": {},
     "output_type": "execute_result"
    }
   ],
   "source": [
    "x = np.array([[ 0,  1,  2],\n",
    "              [ 3,  4,  5],\n",
    "              [ 6,  7,  8],\n",
    "              [ 9, 10, 11]])\n",
    "rows = (x.sum(-1) % 2) == 0\n",
    "x[x % 2 == 0]\n",
    "x[rows]"
   ]
  },
  {
   "cell_type": "code",
   "execution_count": 13,
   "id": "40218a93",
   "metadata": {},
   "outputs": [
    {
     "data": {
      "text/plain": [
       "array([16777472], dtype=int32)"
      ]
     },
     "execution_count": 13,
     "metadata": {},
     "output_type": "execute_result"
    }
   ],
   "source": [
    "columns = [0, 2]\n",
    "rows.dtype = np.int32\n",
    "rows"
   ]
  },
  {
   "cell_type": "code",
   "execution_count": null,
   "id": "3422d731",
   "metadata": {},
   "outputs": [
    {
     "data": {
      "text/plain": [
       "array([ 0,  2,  4,  5,  7,  9, 10, 12, 14, 15, 17, 19, 20, 22, 24, 25, 27,\n",
       "       29])"
      ]
     },
     "execution_count": 23,
     "metadata": {},
     "output_type": "execute_result"
    }
   ],
   "source": [
    "x = np.arange(30).reshape(2, 3, 5)\n",
    "b = np.array([[True, True, True], [True, True, True]])\n",
    "x[b]"
   ]
  },
  {
   "cell_type": "code",
   "execution_count": 52,
   "id": "130674df",
   "metadata": {},
   "outputs": [
    {
     "name": "stdout",
     "output_type": "stream",
     "text": [
      "[[[[[4 5]\n",
      "    [6 7]]\n",
      "\n",
      "   [[4 5]\n",
      "    [6 7]]]\n",
      "\n",
      "\n",
      "  [[[4 5]\n",
      "    [6 7]]\n",
      "\n",
      "   [[4 5]\n",
      "    [6 7]]]\n",
      "\n",
      "\n",
      "  [[[4 5]\n",
      "    [6 7]]\n",
      "\n",
      "   [[4 5]\n",
      "    [6 7]]]\n",
      "\n",
      "\n",
      "  [[[4 5]\n",
      "    [6 7]]\n",
      "\n",
      "   [[4 5]\n",
      "    [6 7]]]\n",
      "\n",
      "\n",
      "  [[[4 5]\n",
      "    [6 7]]\n",
      "\n",
      "   [[4 5]\n",
      "    [6 7]]]]\n",
      "\n",
      "\n",
      "\n",
      " [[[[4 5]\n",
      "    [6 7]]\n",
      "\n",
      "   [[4 5]\n",
      "    [6 7]]]\n",
      "\n",
      "\n",
      "  [[[4 5]\n",
      "    [6 7]]\n",
      "\n",
      "   [[4 5]\n",
      "    [6 7]]]\n",
      "\n",
      "\n",
      "  [[[4 5]\n",
      "    [6 7]]\n",
      "\n",
      "   [[4 5]\n",
      "    [6 7]]]\n",
      "\n",
      "\n",
      "  [[[4 5]\n",
      "    [6 7]]\n",
      "\n",
      "   [[4 5]\n",
      "    [6 7]]]\n",
      "\n",
      "\n",
      "  [[[4 5]\n",
      "    [6 7]]\n",
      "\n",
      "   [[4 5]\n",
      "    [6 7]]]]]\n"
     ]
    }
   ],
   "source": [
    "y = np.arange(8).reshape(2, 2, 2)\n",
    "index = np.ones((2, 5, 2), dtype=np.int64)\n",
    "print(y[index])\n"
   ]
  },
  {
   "cell_type": "code",
   "execution_count": 67,
   "id": "f4737cab",
   "metadata": {},
   "outputs": [
    {
     "name": "stdout",
     "output_type": "stream",
     "text": [
      "[False False False  True  True]\n"
     ]
    },
    {
     "data": {
      "text/plain": [
       "array([[21, 22, 23, 24, 25, 26, 27],\n",
       "       [28, 29, 30, 31, 32, 33, 34]])"
      ]
     },
     "execution_count": 67,
     "metadata": {},
     "output_type": "execute_result"
    }
   ],
   "source": [
    "x = np.arange(35).reshape(5, 7)\n",
    "b = x > 20\n",
    "print(b[:, 5])\n",
    "x[b[:, 5]]\n"
   ]
  },
  {
   "cell_type": "code",
   "execution_count": 84,
   "id": "ea72d3e6",
   "metadata": {},
   "outputs": [
    {
     "data": {
      "text/plain": [
       "array([1, 2])"
      ]
     },
     "execution_count": 84,
     "metadata": {},
     "output_type": "execute_result"
    }
   ],
   "source": [
    "x = np.array([1, 2])\n",
    "x[...]"
   ]
  },
  {
   "cell_type": "code",
   "execution_count": null,
   "id": "0b963351",
   "metadata": {},
   "outputs": [],
   "source": []
  }
 ],
 "metadata": {
  "kernelspec": {
   "display_name": "Python 3",
   "language": "python",
   "name": "python3"
  },
  "language_info": {
   "codemirror_mode": {
    "name": "ipython",
    "version": 3
   },
   "file_extension": ".py",
   "mimetype": "text/x-python",
   "name": "python",
   "nbconvert_exporter": "python",
   "pygments_lexer": "ipython3",
   "version": "3.12.1"
  }
 },
 "nbformat": 4,
 "nbformat_minor": 5
}
